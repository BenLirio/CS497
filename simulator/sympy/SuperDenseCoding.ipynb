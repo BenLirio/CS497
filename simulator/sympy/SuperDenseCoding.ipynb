{
 "cells": [
  {
   "cell_type": "code",
   "execution_count": 1,
   "id": "44661d71",
   "metadata": {},
   "outputs": [],
   "source": [
    "from sympy import Symbol, Matrix, sqrt, print_latex, simplify\n",
    "from sympy.physics.quantum import TensorProduct"
   ]
  },
  {
   "cell_type": "code",
   "execution_count": 2,
   "id": "5af573f2",
   "metadata": {},
   "outputs": [],
   "source": [
    "class Infix:\n",
    "    def __init__(self, function):\n",
    "        self.function = function\n",
    "    def __ror__(self, other):\n",
    "        return Infix(lambda x, self=self, other=other: self.function(other, x))\n",
    "    def __or__(self, other):\n",
    "        return self.function(other)\n",
    "    def __rlshift__(self, other):\n",
    "        return Infix(lambda x, self=self, other=other: self.function(other, x))\n",
    "    def __rshift__(self, other):\n",
    "        return self.function(other)\n",
    "    def __call__(self, value1, value2):\n",
    "        return self.function(value1, value2)"
   ]
  },
  {
   "cell_type": "code",
   "execution_count": 3,
   "id": "93e0aa3b",
   "metadata": {},
   "outputs": [],
   "source": [
    "x = Infix(TensorProduct)"
   ]
  },
  {
   "cell_type": "markdown",
   "id": "05b96426",
   "metadata": {},
   "source": [
    "# Super Dense Coding"
   ]
  },
  {
   "cell_type": "code",
   "execution_count": 4,
   "id": "5c0b69a2",
   "metadata": {},
   "outputs": [
    {
     "data": {
      "text/latex": [
       "$\\displaystyle \\left[\\begin{matrix}1\\\\0\\end{matrix}\\right]$"
      ],
      "text/plain": [
       "Matrix([\n",
       "[1],\n",
       "[0]])"
      ]
     },
     "execution_count": 4,
     "metadata": {},
     "output_type": "execute_result"
    }
   ],
   "source": [
    "zero = Matrix([\n",
    "    [1],\n",
    "    [0]\n",
    "])\n",
    "zero"
   ]
  },
  {
   "cell_type": "code",
   "execution_count": 5,
   "id": "f1be3c00",
   "metadata": {},
   "outputs": [
    {
     "data": {
      "text/latex": [
       "$\\displaystyle \\left[\\begin{matrix}1\\\\0\\\\0\\\\0\\end{matrix}\\right]$"
      ],
      "text/plain": [
       "Matrix([\n",
       "[1],\n",
       "[0],\n",
       "[0],\n",
       "[0]])"
      ]
     },
     "execution_count": 5,
     "metadata": {},
     "output_type": "execute_result"
    }
   ],
   "source": [
    "initial_state = zero |x| zero\n",
    "initial_state"
   ]
  },
  {
   "cell_type": "code",
   "execution_count": 6,
   "id": "72297c32",
   "metadata": {},
   "outputs": [
    {
     "data": {
      "text/latex": [
       "$\\displaystyle \\left[\\begin{matrix}1 & 1\\\\1 & -1\\end{matrix}\\right]$"
      ],
      "text/plain": [
       "Matrix([\n",
       "[1,  1],\n",
       "[1, -1]])"
      ]
     },
     "execution_count": 6,
     "metadata": {},
     "output_type": "execute_result"
    }
   ],
   "source": [
    "H = Matrix([\n",
    "    [ 1,  1 ],\n",
    "    [ 1, -1 ]\n",
    "])\n",
    "H"
   ]
  },
  {
   "cell_type": "code",
   "execution_count": 7,
   "id": "7767bc8b",
   "metadata": {},
   "outputs": [
    {
     "data": {
      "text/latex": [
       "$\\displaystyle \\left[\\begin{matrix}1 & 0\\\\0 & 1\\end{matrix}\\right]$"
      ],
      "text/plain": [
       "Matrix([\n",
       "[1, 0],\n",
       "[0, 1]])"
      ]
     },
     "execution_count": 7,
     "metadata": {},
     "output_type": "execute_result"
    }
   ],
   "source": [
    "I = Matrix([\n",
    "    [ 1, 0 ],\n",
    "    [ 0, 1 ]\n",
    "])\n",
    "I"
   ]
  },
  {
   "cell_type": "code",
   "execution_count": 8,
   "id": "9593ef63",
   "metadata": {},
   "outputs": [
    {
     "data": {
      "text/latex": [
       "$\\displaystyle \\left[\\begin{matrix}1 & 0 & 1 & 0\\\\0 & 1 & 0 & 1\\\\1 & 0 & -1 & 0\\\\0 & 1 & 0 & -1\\end{matrix}\\right]$"
      ],
      "text/plain": [
       "Matrix([\n",
       "[1, 0,  1,  0],\n",
       "[0, 1,  0,  1],\n",
       "[1, 0, -1,  0],\n",
       "[0, 1,  0, -1]])"
      ]
     },
     "execution_count": 8,
     "metadata": {},
     "output_type": "execute_result"
    }
   ],
   "source": [
    "H_top = H |x| I\n",
    "H_top"
   ]
  },
  {
   "cell_type": "code",
   "execution_count": 9,
   "id": "840f37c3",
   "metadata": {},
   "outputs": [
    {
     "data": {
      "text/latex": [
       "$\\displaystyle \\left[\\begin{matrix}1 & 0 & 0 & 0\\\\0 & 1 & 0 & 0\\\\0 & 0 & 0 & 1\\\\0 & 0 & 1 & 0\\end{matrix}\\right]$"
      ],
      "text/plain": [
       "Matrix([\n",
       "[1, 0, 0, 0],\n",
       "[0, 1, 0, 0],\n",
       "[0, 0, 0, 1],\n",
       "[0, 0, 1, 0]])"
      ]
     },
     "execution_count": 9,
     "metadata": {},
     "output_type": "execute_result"
    }
   ],
   "source": [
    "CNOT = Matrix([\n",
    "    [ 1, 0, 0, 0 ],\n",
    "    [ 0, 1, 0, 0 ],\n",
    "    [ 0, 0, 0, 1 ],\n",
    "    [ 0, 0, 1, 0 ]\n",
    "])\n",
    "CNOT"
   ]
  },
  {
   "cell_type": "code",
   "execution_count": 10,
   "id": "0762d92d",
   "metadata": {},
   "outputs": [
    {
     "data": {
      "text/latex": [
       "$\\displaystyle \\left[\\begin{matrix}0 & 1\\\\1 & 0\\end{matrix}\\right]$"
      ],
      "text/plain": [
       "Matrix([\n",
       "[0, 1],\n",
       "[1, 0]])"
      ]
     },
     "execution_count": 10,
     "metadata": {},
     "output_type": "execute_result"
    }
   ],
   "source": [
    "X = Matrix([\n",
    "    [ 0, 1 ],\n",
    "    [ 1, 0 ]\n",
    "])\n",
    "X"
   ]
  },
  {
   "cell_type": "code",
   "execution_count": 11,
   "id": "dca0f3a1",
   "metadata": {},
   "outputs": [
    {
     "data": {
      "text/latex": [
       "$\\displaystyle \\left[\\begin{matrix}0 & 0 & 1 & 0\\\\0 & 0 & 0 & 1\\\\1 & 0 & 0 & 0\\\\0 & 1 & 0 & 0\\end{matrix}\\right]$"
      ],
      "text/plain": [
       "Matrix([\n",
       "[0, 0, 1, 0],\n",
       "[0, 0, 0, 1],\n",
       "[1, 0, 0, 0],\n",
       "[0, 1, 0, 0]])"
      ]
     },
     "execution_count": 11,
     "metadata": {},
     "output_type": "execute_result"
    }
   ],
   "source": [
    "X_top = X |x| I\n",
    "X_top"
   ]
  },
  {
   "cell_type": "code",
   "execution_count": 12,
   "id": "b6f15e7e",
   "metadata": {},
   "outputs": [
    {
     "data": {
      "text/latex": [
       "$\\displaystyle \\left[\\begin{matrix}1 & 0\\\\0 & -1\\end{matrix}\\right]$"
      ],
      "text/plain": [
       "Matrix([\n",
       "[1,  0],\n",
       "[0, -1]])"
      ]
     },
     "execution_count": 12,
     "metadata": {},
     "output_type": "execute_result"
    }
   ],
   "source": [
    "Z = Matrix([\n",
    "    [ 1,  0 ],\n",
    "    [ 0, -1 ]\n",
    "])\n",
    "Z"
   ]
  },
  {
   "cell_type": "code",
   "execution_count": 13,
   "id": "a5a7b385",
   "metadata": {},
   "outputs": [
    {
     "data": {
      "text/latex": [
       "$\\displaystyle \\left[\\begin{matrix}1 & 0 & 0 & 0\\\\0 & 1 & 0 & 0\\\\0 & 0 & -1 & 0\\\\0 & 0 & 0 & -1\\end{matrix}\\right]$"
      ],
      "text/plain": [
       "Matrix([\n",
       "[1, 0,  0,  0],\n",
       "[0, 1,  0,  0],\n",
       "[0, 0, -1,  0],\n",
       "[0, 0,  0, -1]])"
      ]
     },
     "execution_count": 13,
     "metadata": {},
     "output_type": "execute_result"
    }
   ],
   "source": [
    "Z_top = Z |x| I\n",
    "Z_top"
   ]
  },
  {
   "cell_type": "markdown",
   "id": "6f77c108",
   "metadata": {},
   "source": [
    "# Message \"00\""
   ]
  },
  {
   "cell_type": "code",
   "execution_count": 14,
   "id": "39635008",
   "metadata": {},
   "outputs": [
    {
     "data": {
      "text/latex": [
       "$\\displaystyle \\left[\\begin{matrix}1 & 1 & 1 & 1 & 2\\\\0 & 0 & 0 & 0 & 0\\\\0 & 1 & 0 & 1 & 0\\\\0 & 0 & 1 & 0 & 0\\end{matrix}\\right]$"
      ],
      "text/plain": [
       "Matrix([\n",
       "[1, 1, 1, 1, 2],\n",
       "[0, 0, 0, 0, 0],\n",
       "[0, 1, 0, 1, 0],\n",
       "[0, 0, 1, 0, 0]])"
      ]
     },
     "execution_count": 14,
     "metadata": {},
     "output_type": "execute_result"
    }
   ],
   "source": [
    "gates = [\n",
    "    H_top,\n",
    "    CNOT,\n",
    "    CNOT,\n",
    "    H_top\n",
    "]\n",
    "states = initial_state\n",
    "for gate in gates:\n",
    "    state = gate * states[:, -1]\n",
    "    states = states.row_join(state)\n",
    "states"
   ]
  },
  {
   "cell_type": "markdown",
   "id": "7b22eb2f",
   "metadata": {},
   "source": [
    "# Message \"01\""
   ]
  },
  {
   "cell_type": "code",
   "execution_count": 15,
   "id": "c15ec048",
   "metadata": {},
   "outputs": [
    {
     "data": {
      "text/latex": [
       "$\\displaystyle \\left[\\begin{matrix}1 & 1 & 1 & 0 & 0 & 0\\\\0 & 0 & 0 & 1 & 1 & 2\\\\0 & 1 & 0 & 1 & 0 & 0\\\\0 & 0 & 1 & 0 & 1 & 0\\end{matrix}\\right]$"
      ],
      "text/plain": [
       "Matrix([\n",
       "[1, 1, 1, 0, 0, 0],\n",
       "[0, 0, 0, 1, 1, 2],\n",
       "[0, 1, 0, 1, 0, 0],\n",
       "[0, 0, 1, 0, 1, 0]])"
      ]
     },
     "execution_count": 15,
     "metadata": {},
     "output_type": "execute_result"
    }
   ],
   "source": [
    "gates = [\n",
    "    H_top,\n",
    "    CNOT,\n",
    "    X_top,\n",
    "    CNOT,\n",
    "    H_top\n",
    "]\n",
    "states = initial_state\n",
    "for gate in gates:\n",
    "    state = gate * states[:, -1]\n",
    "    states = states.row_join(state)\n",
    "states"
   ]
  },
  {
   "cell_type": "markdown",
   "id": "76f3a485",
   "metadata": {},
   "source": [
    "# Message \"10\""
   ]
  },
  {
   "cell_type": "code",
   "execution_count": 16,
   "id": "66f1c518",
   "metadata": {},
   "outputs": [
    {
     "data": {
      "text/latex": [
       "$\\displaystyle \\left[\\begin{matrix}1 & 1 & 1 & 1 & 1 & 0\\\\0 & 0 & 0 & 0 & 0 & 0\\\\0 & 1 & 0 & 0 & -1 & 2\\\\0 & 0 & 1 & -1 & 0 & 0\\end{matrix}\\right]$"
      ],
      "text/plain": [
       "Matrix([\n",
       "[1, 1, 1,  1,  1, 0],\n",
       "[0, 0, 0,  0,  0, 0],\n",
       "[0, 1, 0,  0, -1, 2],\n",
       "[0, 0, 1, -1,  0, 0]])"
      ]
     },
     "execution_count": 16,
     "metadata": {},
     "output_type": "execute_result"
    }
   ],
   "source": [
    "gates = [\n",
    "    H_top,\n",
    "    CNOT,\n",
    "    Z_top,\n",
    "    CNOT,\n",
    "    H_top\n",
    "]\n",
    "states = initial_state\n",
    "for gate in gates:\n",
    "    state = gate * states[:, -1]\n",
    "    states = states.row_join(state)\n",
    "states"
   ]
  },
  {
   "cell_type": "markdown",
   "id": "b774aea2",
   "metadata": {},
   "source": [
    "# Message \"11\""
   ]
  },
  {
   "cell_type": "code",
   "execution_count": 17,
   "id": "aa9bf8dd",
   "metadata": {},
   "outputs": [
    {
     "data": {
      "text/latex": [
       "$\\displaystyle \\left[\\begin{matrix}1 & 1 & 1 & 0 & 0 & 0 & 0\\\\0 & 0 & 0 & 1 & 1 & 1 & 0\\\\0 & 1 & 0 & 1 & -1 & 0 & 0\\\\0 & 0 & 1 & 0 & 0 & -1 & 2\\end{matrix}\\right]$"
      ],
      "text/plain": [
       "Matrix([\n",
       "[1, 1, 1, 0,  0,  0, 0],\n",
       "[0, 0, 0, 1,  1,  1, 0],\n",
       "[0, 1, 0, 1, -1,  0, 0],\n",
       "[0, 0, 1, 0,  0, -1, 2]])"
      ]
     },
     "execution_count": 17,
     "metadata": {},
     "output_type": "execute_result"
    }
   ],
   "source": [
    "gates = [\n",
    "    H_top,\n",
    "    CNOT,\n",
    "    X_top,\n",
    "    Z_top,\n",
    "    CNOT,\n",
    "    H_top\n",
    "]\n",
    "states = initial_state\n",
    "for gate in gates:\n",
    "    state = gate * states[:, -1]\n",
    "    states = states.row_join(state)\n",
    "states"
   ]
  },
  {
   "cell_type": "markdown",
   "id": "7719494a",
   "metadata": {},
   "source": [
    "# Symbolic"
   ]
  },
  {
   "cell_type": "code",
   "execution_count": 18,
   "id": "dbbc6910",
   "metadata": {},
   "outputs": [
    {
     "data": {
      "text/latex": [
       "$\\displaystyle \\left[\\begin{matrix}1 & 1 & 1 & m_{0} - 1 & \\left(m_{0} - 1\\right) \\left(2 m_{1} - 1\\right) & \\left(m_{0} - 1\\right) \\left(2 m_{1} - 1\\right) & 2 m_{0} m_{1} - 2 m_{0} - 2 m_{1} + 2\\\\0 & 0 & 0 & m_{0} & m_{0} \\cdot \\left(2 m_{1} - 1\\right) & m_{0} \\cdot \\left(2 m_{1} - 1\\right) & 2 m_{0} \\left(m_{1} - 1\\right)\\\\0 & 1 & 0 & m_{0} & - m_{0} & 1 - m_{0} & 2 m_{1} \\left(m_{0} - 1\\right)\\\\0 & 0 & 1 & m_{0} - 1 & 1 - m_{0} & - m_{0} & 2 m_{0} m_{1}\\end{matrix}\\right]$"
      ],
      "text/plain": [
       "Matrix([\n",
       "[1, 1, 1, m0 - 1, (m0 - 1)*(2*m1 - 1), (m0 - 1)*(2*m1 - 1), 2*m0*m1 - 2*m0 - 2*m1 + 2],\n",
       "[0, 0, 0,     m0,       m0*(2*m1 - 1),       m0*(2*m1 - 1),             2*m0*(m1 - 1)],\n",
       "[0, 1, 0,     m0,                 -m0,              1 - m0,             2*m1*(m0 - 1)],\n",
       "[0, 0, 1, m0 - 1,              1 - m0,                 -m0,                   2*m0*m1]])"
      ]
     },
     "execution_count": 18,
     "metadata": {},
     "output_type": "execute_result"
    }
   ],
   "source": [
    "m0 = Symbol('m0')\n",
    "m1 = Symbol('m1')\n",
    "def conditional_gate(g, p):\n",
    "    I = Matrix.eye(gate.shape[0])\n",
    "    return (p * g) + ((p-1) * I)\n",
    "gates = [\n",
    "    H_top,\n",
    "    CNOT,\n",
    "    conditional_gate(X_top, m0),\n",
    "    conditional_gate(Z_top, m1),\n",
    "    CNOT,\n",
    "    H_top\n",
    "]\n",
    "states = initial_state\n",
    "for gate in gates:\n",
    "    state = gate * states[:, -1]\n",
    "    states = states.row_join(state)\n",
    "simplify(states)"
   ]
  },
  {
   "cell_type": "code",
   "execution_count": null,
   "id": "5ccea0dd",
   "metadata": {},
   "outputs": [],
   "source": []
  },
  {
   "cell_type": "code",
   "execution_count": null,
   "id": "9e598d3d",
   "metadata": {},
   "outputs": [],
   "source": [
    "Symbol('x') + Symbol('y')"
   ]
  },
  {
   "cell_type": "code",
   "execution_count": null,
   "id": "906a1ea5",
   "metadata": {},
   "outputs": [],
   "source": []
  },
  {
   "cell_type": "code",
   "execution_count": null,
   "id": "2a46d32c",
   "metadata": {},
   "outputs": [],
   "source": []
  }
 ],
 "metadata": {
  "kernelspec": {
   "display_name": "Python 3 (ipykernel)",
   "language": "python",
   "name": "python3"
  },
  "language_info": {
   "codemirror_mode": {
    "name": "ipython",
    "version": 3
   },
   "file_extension": ".py",
   "mimetype": "text/x-python",
   "name": "python",
   "nbconvert_exporter": "python",
   "pygments_lexer": "ipython3",
   "version": "3.9.13"
  }
 },
 "nbformat": 4,
 "nbformat_minor": 5
}
